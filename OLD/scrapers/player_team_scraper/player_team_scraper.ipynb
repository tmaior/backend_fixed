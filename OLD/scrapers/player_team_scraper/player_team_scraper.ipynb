{
 "cells": [
  {
   "cell_type": "code",
   "execution_count": null,
   "id": "96b5e0e3-f71d-4250-b6f2-7f6fbced959b",
   "metadata": {},
   "outputs": [],
   "source": [
    "from selenium import webdriver\n",
    "from selenium.webdriver.chrome.options import Options\n",
    "from bs4 import BeautifulSoup\n",
    "import pandas as pd\n",
    "import time\n",
    "import unicodedata\n",
    "\n",
    "# Set up Selenium\n",
    "options = Options()\n",
    "options.add_argument(\"--headless=new\")\n",
    "options.add_argument(\"--no-sandbox\")\n",
    "options.add_argument(\"--disable-dev-shm-usage\")\n",
    "options.add_argument(\"user-agent=Mozilla/5.0\")\n",
    "\n",
    "driver = webdriver.Chrome(options=options)\n",
    "\n",
    "# Go to the page\n",
    "url = \"https://www.baseball-reference.com/leagues/majors/2025-standard-batting.shtml\"\n",
    "driver.get(url)\n",
    "\n",
    "# Wait longer to make sure JS finishes loading\n",
    "time.sleep(5)\n",
    "\n",
    "# Parse page\n",
    "html = driver.page_source\n",
    "soup = BeautifulSoup(html, \"html.parser\")\n",
    "\n",
    "# ✅ Now the table is directly in the page, not hidden in a comment\n",
    "table = soup.find('table', {'id': 'players_standard_batting'})\n",
    "\n",
    "# Check if we found it\n",
    "if table is None:\n",
    "    print(\"❌ Table not found after JS load\")\n",
    "    driver.quit()\n",
    "    raise ValueError(\"Table still not found after waiting.\")\n",
    "\n",
    "# Read table into pandas\n",
    "df = pd.read_html(str(table))[0]\n",
    "\n",
    "# Clean up repeated headers\n",
    "df = df[df['Rk'] != 'Rk'].reset_index(drop=True)\n",
    "\n",
    "print(\"✅ DataFrame preview:\")\n",
    "print(df.head())\n",
    "\n",
    "driver.quit()\n"
   ]
  },
  {
   "cell_type": "code",
   "execution_count": null,
   "id": "e00e2802-1106-4b00-87a8-065d5acf2283",
   "metadata": {},
   "outputs": [],
   "source": []
  },
  {
   "cell_type": "code",
   "execution_count": null,
   "id": "208a14b0-182b-4f96-af8c-53e27627745e",
   "metadata": {},
   "outputs": [],
   "source": [
    "df2=df[['Player','Team']]"
   ]
  },
  {
   "cell_type": "code",
   "execution_count": null,
   "id": "f4dbf0ed-6c6b-4849-9c94-2cc29197520c",
   "metadata": {},
   "outputs": [],
   "source": [
    "multi_team_flags = ['2TM', '3TM', '4TM', '5TM']\n",
    "filtered_df = df2[~df2['Team'].isin(multi_team_flags)].copy()\n",
    "\n",
    "\n",
    "# Step 2: Keep only the LAST team listed for each player (i.e., current team)\n",
    "df2 = filtered_df.drop_duplicates(subset='Player', keep='last').reset_index(drop=True)"
   ]
  },
  {
   "cell_type": "code",
   "execution_count": null,
   "id": "59e3969a-e382-42d5-878c-83f43591ff61",
   "metadata": {},
   "outputs": [],
   "source": [
    "def clean_name_symbols(name):\n",
    "    if not isinstance(name, str):\n",
    "        return name\n",
    "    return name.replace('*', '').replace('#', '')\n",
    "df2['Player'] = df2['Player'].apply(clean_name_symbols)"
   ]
  },
  {
   "cell_type": "code",
   "execution_count": null,
   "id": "a5a2a1c4-1caa-440b-8dc2-6903143257a9",
   "metadata": {},
   "outputs": [],
   "source": [
    "#normalizing the names, getting rid of accents\n",
    "def normalize_name(name):\n",
    "    if not isinstance(name, str):\n",
    "        return name\n",
    "    return unicodedata.normalize('NFKD', name).encode('ascii', 'ignore').decode('utf-8')\n",
    "df2['Player'] = df2['Player'].apply(normalize_name)\n"
   ]
  },
  {
   "cell_type": "code",
   "execution_count": null,
   "id": "6280f4fa-3b62-44e9-a78c-3fdff3b7cda8",
   "metadata": {},
   "outputs": [],
   "source": [
    "df2['Player'].unique()"
   ]
  },
  {
   "cell_type": "code",
   "execution_count": null,
   "id": "2ea7348c-8845-45ce-8d47-5c765adc1762",
   "metadata": {},
   "outputs": [],
   "source": [
    "df2.to_csv('../../general/stats/batter_team_2025.csv')"
   ]
  },
  {
   "cell_type": "code",
   "execution_count": null,
   "id": "0ab34270-2333-4807-8a20-03394e0a4f84",
   "metadata": {},
   "outputs": [],
   "source": []
  }
 ],
 "metadata": {
  "kernelspec": {
   "display_name": "Python 3 (ipykernel)",
   "language": "python",
   "name": "python3"
  },
  "language_info": {
   "codemirror_mode": {
    "name": "ipython",
    "version": 3
   },
   "file_extension": ".py",
   "mimetype": "text/x-python",
   "name": "python",
   "nbconvert_exporter": "python",
   "pygments_lexer": "ipython3",
   "version": "3.12.4"
  }
 },
 "nbformat": 4,
 "nbformat_minor": 5
}
